{
 "cells": [
  {
   "cell_type": "markdown",
   "id": "a5108307",
   "metadata": {},
   "source": [
    "# 1\n",
    "## Create a list of 10 numbers and find out the minimum, maximum, and total (sum) of the list. "
   ]
  },
  {
   "cell_type": "code",
   "execution_count": 1,
   "id": "dd8bf5e0",
   "metadata": {},
   "outputs": [
    {
     "name": "stdout",
     "output_type": "stream",
     "text": [
      "[81, 43, 17, 9, 10, 65, 62, 25, 95, 10]\n",
      "Minimum: 9\n",
      "Maximum: 95\n",
      "Total: 417\n"
     ]
    }
   ],
   "source": [
    "numbers = [81, 43, 17, 9, 10, 65, 62, 25, 95, 10] \n",
    "\n",
    "mini = min(numbers)\n",
    "\n",
    "maxi = max(numbers) \n",
    "\n",
    "total = sum(numbers) \n",
    "\n",
    "print(numbers) \n",
    "\n",
    "print(\"Minimum:\", mini) \n",
    "\n",
    "print(\"Maximum:\", maxi) \n",
    "\n",
    "print(\"Total:\", total)"
   ]
  },
  {
   "cell_type": "markdown",
   "id": "d08b781f",
   "metadata": {},
   "source": [
    "# 2\n",
    "## What is a nested If statement? Get input from a user and check whether the number is odd or not. If the number is odd it is also less than or equal to 20. If not, then print relevant information."
   ]
  },
  {
   "cell_type": "code",
   "execution_count": 9,
   "id": "cc967648",
   "metadata": {},
   "outputs": [
    {
     "name": "stdout",
     "output_type": "stream",
     "text": [
      "Enter a number: 80\n",
      "The number is not odd, or less than or equal to 20.\n"
     ]
    }
   ],
   "source": [
    "number = int(input(\"Enter a number: \") )\n",
    "if number % 2 != 0: \n",
    "    if number <= 20: \n",
    "        print(\"The number is both odd and less than or equal to 20.\") \n",
    "    else: \n",
    "        print(\"The number is odd, but greater than 20.\") \n",
    "else: \n",
    "    print(\"The number is not odd, or less than or equal to 20.\")"
   ]
  },
  {
   "cell_type": "markdown",
   "id": "3ff49d6d",
   "metadata": {},
   "source": [
    "# 3\n",
    "## Get a user input of an integer number and check if the given number is a multiple of 11 or not. \n",
    "\n"
   ]
  },
  {
   "cell_type": "code",
   "execution_count": 16,
   "id": "9b0899d3",
   "metadata": {},
   "outputs": [
    {
     "name": "stdout",
     "output_type": "stream",
     "text": [
      "Enter a number: 33\n",
      "33 is a multiple of 11.\n"
     ]
    }
   ],
   "source": [
    "num = int(input(\"Enter a number: \") )\n",
    "if num % 11 == 0: \n",
    "    print(f\"{num} is a multiple of 11.\") \n",
    "else: \n",
    "    print(f\"{num} is not a multiple of 11.\")"
   ]
  },
  {
   "cell_type": "markdown",
   "id": "632df2e9",
   "metadata": {},
   "source": [
    "# 5\n",
    "## In the United States, as of 1995, a minor is generally legally defined as a person under the age of 18. Write a code to check whether a student is a minor or not where the input will be given by users."
   ]
  },
  {
   "cell_type": "code",
   "execution_count": 13,
   "id": "c5e39753",
   "metadata": {},
   "outputs": [
    {
     "name": "stdout",
     "output_type": "stream",
     "text": [
      "Enter the student's age: 20\n",
      "The student is not a minor.\n"
     ]
    }
   ],
   "source": [
    "age = int(input(\"Enter the student's age: \") )\n",
    "if age < 18: \n",
    "    print(\"The student is a minor.\") \n",
    "else: \n",
    "    print(\"The student is not a minor.\")"
   ]
  },
  {
   "cell_type": "markdown",
   "id": "09f4fa71",
   "metadata": {},
   "source": [
    "# 8\n",
    "## Write down a program using a for loop that prints all numbers from 1 to 15 and adds them to a list called numbers_list. \n",
    "\n",
    "### numbers_list=[1,2,3,4,...15]\n",
    "\n"
   ]
  },
  {
   "cell_type": "code",
   "execution_count": 14,
   "id": "376bec99",
   "metadata": {},
   "outputs": [
    {
     "name": "stdout",
     "output_type": "stream",
     "text": [
      "1\n",
      "2\n",
      "3\n",
      "4\n",
      "5\n",
      "6\n",
      "7\n",
      "8\n",
      "9\n",
      "10\n",
      "11\n",
      "12\n",
      "13\n",
      "14\n",
      "15\n",
      "List of numbers: [15]\n"
     ]
    }
   ],
   "source": [
    "numbers_list = []\n",
    "for i in range(1, 16):\n",
    "    print(i)\n",
    "numbers_list.append(i)\n",
    "print(\"List of numbers:\", numbers_list)"
   ]
  },
  {
   "cell_type": "code",
   "execution_count": null,
   "id": "8fdab326",
   "metadata": {},
   "outputs": [],
   "source": []
  }
 ],
 "metadata": {
  "kernelspec": {
   "display_name": "Python 3 (ipykernel)",
   "language": "python",
   "name": "python3"
  },
  "language_info": {
   "codemirror_mode": {
    "name": "ipython",
    "version": 3
   },
   "file_extension": ".py",
   "mimetype": "text/x-python",
   "name": "python",
   "nbconvert_exporter": "python",
   "pygments_lexer": "ipython3",
   "version": "3.11.4"
  }
 },
 "nbformat": 4,
 "nbformat_minor": 5
}
